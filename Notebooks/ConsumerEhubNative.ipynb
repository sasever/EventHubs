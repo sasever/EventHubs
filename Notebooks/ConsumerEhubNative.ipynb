{
 "cells": [
  {
   "cell_type": "code",
   "execution_count": null,
   "metadata": {},
   "outputs": [],
   "source": [
    "!pip install azure-eventhub"
   ]
  },
  {
   "cell_type": "code",
   "execution_count": 1,
   "metadata": {},
   "outputs": [],
   "source": [
    "# Import classes from Event Hubs python package\n",
    "from azure.eventhub import EventHubConsumerClient, EventHubSharedKeyCredential, EventData\n",
    "\n",
    "import os\n",
    "import time \n",
    "import json\n",
    "\n",
    "from IPython.display import display, clear_output\n"
   ]
  },
  {
   "cell_type": "markdown",
   "metadata": {},
   "source": [
    "Preapare Event hubs conenction config\n",
    "Reference: https://docs.microsoft.com/en-us/python/api/azure-eventhub/azure.eventhub.aio.eventhubconsumerclient?view=azure-python"
   ]
  },
  {
   "cell_type": "code",
   "execution_count": 2,
   "metadata": {},
   "outputs": [],
   "source": [
    "##replace below item with your name spaces URL\n",
    "_EVENT_HUB_NAMESPACE = \"your-name-space.servicebus.windows.net\"\n",
    "#replace below item with your event hubs name\n",
    "_EVENT_HUB_NAME  = \"hello\"\n",
    "#replace below item with your name spaces Access Key Name\n",
    "_EVENT_HUB_SAS_POLICY = \"RootManageSharedAccessKey\"\n",
    "#replace below item with your name spaces Access Key \n",
    "_EVENT_HUB_SAS_KEY = \"your name spaces Access Key\""
   ]
  },
  {
   "cell_type": "markdown",
   "metadata": {},
   "source": [
    "Create Credential and client objects"
   ]
  },
  {
   "cell_type": "code",
   "execution_count": null,
   "metadata": {},
   "outputs": [],
   "source": [
    "credential = EventHubSharedKeyCredential(_EVENT_HUB_SAS_POLICY, _EVENT_HUB_SAS_KEY)\n",
    "\n",
    "consumer = EventHubConsumerClient(\n",
    "       fully_qualified_namespace=_EVENT_HUB_NAMESPACE,\n",
    "       eventhub_name=_EVENT_HUB_NAME,\n",
    "       #add your consumer gorup here:\n",
    "       consumer_group='ehub',\n",
    "       credential=credential)"
   ]
  },
  {
   "cell_type": "markdown",
   "metadata": {},
   "source": [
    "Create the function that we will be triggered on event receive, here we are only going to dsiplay the received message:"
   ]
  },
  {
   "cell_type": "code",
   "execution_count": 3,
   "metadata": {},
   "outputs": [],
   "source": [
    "def on_event(partition_context, event):\n",
    "    clear_output(wait=True)   \n",
    "    display(\"MSG: {}  cts: {} \".format(event.body_as_str(encoding='UTF-8'), time.ctime(int(time.time()))))\n"
   ]
  },
  {
   "cell_type": "markdown",
   "metadata": {},
   "source": [
    "Start receiving the events:"
   ]
  },
  {
   "cell_type": "code",
   "execution_count": null,
   "metadata": {},
   "outputs": [
    {
     "data": {
      "text/plain": [
       "'MSG: {\"idx\": 2, \"payload\": 161, \"signal\": \"darkblue\", \"timestamp\": \"Sun Mar 14 21:10:57 2021\"}  cts: Sun Mar 14 21:10:57 2021 '"
      ]
     },
     "metadata": {},
     "output_type": "display_data"
    }
   ],
   "source": [
    "with consumer:\n",
    "    await consumer.receive(\n",
    "                on_event=on_event,\n",
    "                starting_position=\"-1\",  # \"-1\" is from the beginning of the partition.\n",
    "            )"
   ]
  }
 ],
 "metadata": {
  "kernelspec": {
   "display_name": "Python 3",
   "language": "python",
   "name": "python3"
  },
  "language_info": {
   "codemirror_mode": {
    "name": "ipython",
    "version": 3
   },
   "file_extension": ".py",
   "mimetype": "text/x-python",
   "name": "python",
   "nbconvert_exporter": "python",
   "pygments_lexer": "ipython3",
   "version": "3.7.9"
  }
 },
 "nbformat": 4,
 "nbformat_minor": 2
}
