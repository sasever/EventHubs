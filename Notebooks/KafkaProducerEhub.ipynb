{
 "cells": [
  {
   "cell_type": "code",
   "execution_count": null,
   "metadata": {},
   "outputs": [],
   "source": [
    "!pip install confluent-kafka"
   ]
  },
  {
   "cell_type": "code",
   "execution_count": null,
   "metadata": {},
   "outputs": [],
   "source": [
    "from confluent_kafka import Producer\n",
    "import time \n",
    "import random\n",
    "import time\n",
    "import json\n",
    "from IPython.display import display, clear_output"
   ]
  },
  {
   "cell_type": "markdown",
   "metadata": {},
   "source": [
    "Producer config:"
   ]
  },
  {
   "cell_type": "code",
   "execution_count": null,
   "metadata": {},
   "outputs": [],
   "source": [
    "conf = {\n",
    "        #replace below item with your name spaces URL:9093\n",
    "        'bootstrap.servers': 'amdsehubns.servicebus.windows.net:9093', #replace\n",
    "        'security.protocol': 'SASL_SSL',\n",
    "        #replace below item with your environments certificate path:\n",
    "        'ssl.ca.location': 'C:\\\\Certs\\\\ca-bundle.crt',\n",
    "        'sasl.mechanism': 'PLAIN',\n",
    "        #Dont Change here:\n",
    "        'sasl.username': '$ConnectionString',\n",
    "        #replace below item with your Shared Access Key Connection string of your EventHubs Namespace:\n",
    "        'sasl.password': 'Endpoint=sb://amdsehubns.servicebus.windows.net/;SharedAccessKeyName=RootManageSharedAccessKey;SharedAccessKey=zVXlYP9+5raLvD4Qrcl2UHqYwCPXEOUcpZtYWA99wZI=',  \n",
    "        #replace below item with your prefered cliend id\n",
    "        'client.id': 'kafkaproducerpython'\n",
    "    }"
   ]
  },
  {
   "cell_type": "markdown",
   "metadata": {},
   "source": [
    "Create Producer:"
   ]
  },
  {
   "cell_type": "code",
   "execution_count": null,
   "metadata": {},
   "outputs": [],
   "source": [
    "producer = Producer(**conf)\n",
    "#replace below item with your event hubs name\n",
    "topic = \"hello\""
   ]
  },
  {
   "cell_type": "markdown",
   "metadata": {},
   "source": [
    "We will create dummy records randomly from below arrays lets initialize them:"
   ]
  },
  {
   "cell_type": "code",
   "execution_count": null,
   "metadata": {},
   "outputs": [],
   "source": [
    "#number of messages we will send\n",
    "message_count = 1000\n",
    "#time span between messages:\n",
    "sleep_time = 2 #seconds\n",
    "\n",
    "#arrays that we will build our messages from\n",
    "idxl = [1, 2, 3, 4, 5, 6, 7, 8, 9, 10]\n",
    "signalcode = [\"darkred\",\"darkgreen\",\"darkyellow\",\"darkblue\",\"darkpink\",\"darkpurple\"]"
   ]
  },
  {
   "cell_type": "markdown",
   "metadata": {},
   "source": [
    "Generate  messages with random components and send."
   ]
  },
  {
   "cell_type": "code",
   "execution_count": null,
   "metadata": {},
   "outputs": [],
   "source": [
    "\n",
    "print(\"starting sending messages, start time: {0}\".format(time.ctime(int(time.time()))))\n",
    "for  i in range (0,message_count): \n",
    "    random.shuffle(idxl)\n",
    "    random.shuffle(signalcode)\n",
    "    idx = random.sample(idxl,  1)[0]\n",
    "    sig = random.sample(signalcode,  1)[0]\n",
    "    payload = random.randint(1, 1000)\n",
    "    messageval = {\"idx\": idx, \"payload\": payload, \"signal\":sig,  \"timestamp\": time.ctime(int(time.time()))}\n",
    "    \n",
    "\n",
    "    producer.produce(topic, json.dumps(messageval).encode('utf-8'))\n",
    "\n",
    "    clear_output(wait=True)\n",
    "    display(\"message : \"+str(i)+\" | value=\"+str(messageval))\n",
    "    time.sleep(sleep_time)\n",
    "            \n",
    "print(\"finished sending messages, sent message count: {0} , end time: {1}\".format(message_count, time.ctime(int(time.time()))))"
   ]
  }
 ],
 "metadata": {
  "kernelspec": {
   "display_name": "Python 3.7 - default",
   "language": "python",
   "name": "py37_default"
  },
  "language_info": {
   "codemirror_mode": {
    "name": "ipython",
    "version": 3
   },
   "file_extension": ".py",
   "mimetype": "text/x-python",
   "name": "python",
   "nbconvert_exporter": "python",
   "pygments_lexer": "ipython3",
   "version": "3.7.9"
  }
 },
 "nbformat": 4,
 "nbformat_minor": 4
}
