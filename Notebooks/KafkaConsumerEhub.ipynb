{
 "cells": [
  {
   "cell_type": "code",
   "execution_count": null,
   "metadata": {},
   "outputs": [],
   "source": [
    "!pip install confluent_kafka"
   ]
  },
  {
   "cell_type": "code",
   "execution_count": null,
   "metadata": {},
   "outputs": [],
   "source": [
    "from confluent_kafka import Consumer, KafkaException, KafkaError\n",
    "import sys\n",
    "\n",
    "import json\n",
    "import logging\n",
    "from IPython.display import display, clear_output\n",
    "\n",
    "import time"
   ]
  },
  {
   "cell_type": "markdown",
   "metadata": {},
   "source": [
    "Consumer settings:"
   ]
  },
  {
   "cell_type": "code",
   "execution_count": null,
   "metadata": {},
   "outputs": [],
   "source": [
    "conf = {\n",
    "        'bootstrap.servers': 'amdsehubns.servicebus.windows.net:9093', \n",
    "        'security.protocol': 'SASL_SSL',\n",
    "        #replace below item with your environments certificate path, you can keep it as .pem or rename to .crt' both works:\n",
    "        'ssl.ca.location': 'C:\\\\Certs\\\\cacert.pem',\n",
    "        'sasl.mechanism': 'PLAIN',\n",
    "        #Dont Change here:\n",
    "        'sasl.username': '$ConnectionString',\n",
    "        #replace below item with your Shared Access Key Connection string of your EventHubs Namespace:\n",
    "        'sasl.password':'Endpoint=sb://amdsehubns.servicebus.windows.net/;SharedAccessKeyName=RootManageSharedAccessKey;SharedAccessKey=zVXlYP9+5raLvD4Qrcl2UHqYwCPXEOUcpZtYWA99wZI=',      \n",
    "        #replace below item with your consumer group\n",
    "        'group.id': 'kafka',\n",
    "        'session.timeout.ms': 60000,\n",
    "        'default.topic.config': {'auto.offset.reset': 'smallest'},\n",
    "         #replace below item with your prefered cliend id\n",
    "        'client.id': 'kafkaconsumerpython'\n",
    "    }\n",
    "#replace below item with your event hubs name\n",
    "topic = [\"hello\"]"
   ]
  },
  {
   "cell_type": "markdown",
   "metadata": {},
   "source": [
    "Create logger for consumer (logs will be emitted when poll() is called)"
   ]
  },
  {
   "cell_type": "code",
   "execution_count": null,
   "metadata": {},
   "outputs": [],
   "source": [
    "logger = logging.getLogger('consumer')\n",
    "logger.setLevel(logging.DEBUG)\n",
    "handler = logging.StreamHandler()\n",
    "handler.setFormatter(logging.Formatter('%(asctime)-15s %(levelname)-8s %(message)s'))\n",
    "logger.addHandler(handler)"
   ]
  },
  {
   "cell_type": "markdown",
   "metadata": {},
   "source": [
    "Create Consumer object and subscribe it to the topic(event hubs)"
   ]
  },
  {
   "cell_type": "code",
   "execution_count": null,
   "metadata": {},
   "outputs": [],
   "source": [
    "consumer = Consumer(conf, logger=logger)"
   ]
  },
  {
   "cell_type": "code",
   "execution_count": null,
   "metadata": {},
   "outputs": [],
   "source": [
    "consumer.subscribe(topic)"
   ]
  },
  {
   "cell_type": "markdown",
   "metadata": {},
   "source": [
    "Start polling messages:"
   ]
  },
  {
   "cell_type": "code",
   "execution_count": null,
   "metadata": {},
   "outputs": [],
   "source": [
    "while True:    \n",
    "    message = consumer.poll(timeout=100.0)\n",
    "    if message is None:\n",
    "        clear_output(wait=True)\n",
    "        display('No Message | cts: '+ time.ctime(int(time.time())))\n",
    "        continue\n",
    "    if message.error():\n",
    "        # Error or event\n",
    "        if message.error().code() == KafkaError._PARTITION_EOF:\n",
    "            # End of partition event\n",
    "            display('%% %s [%d] reached end at offset %d\\n' % (message.topic(), message.partition(),message.offset()))\n",
    "        else:\n",
    "            # Error\n",
    "            raise KafkaException(message.error())\n",
    "            break\n",
    "    clear_output(wait=True)\n",
    "    display(str(message.value()) + ' cts: '+ time.ctime(int(time.time())))"
   ]
  }
 ],
 "metadata": {
  "kernelspec": {
   "display_name": "Python 3.7 - default",
   "language": "python",
   "name": "py37_default"
  },
  "language_info": {
   "codemirror_mode": {
    "name": "ipython",
    "version": 3
   },
   "file_extension": ".py",
   "mimetype": "text/x-python",
   "name": "python",
   "nbconvert_exporter": "python",
   "pygments_lexer": "ipython3",
   "version": "3.7.9"
  }
 },
 "nbformat": 4,
 "nbformat_minor": 4
}
