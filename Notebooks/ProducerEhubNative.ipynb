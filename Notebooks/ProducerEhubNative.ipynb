{
 "cells": [
  {
   "cell_type": "code",
   "execution_count": null,
   "metadata": {},
   "outputs": [],
   "source": [
    "!pip install azure-eventhub"
   ]
  },
  {
   "cell_type": "code",
   "execution_count": null,
   "metadata": {},
   "outputs": [],
   "source": [
    "# Import classes from Event Hubs python package\n",
    "\n",
    "from azure.eventhub.aio import EventHubProducerClient\n",
    "from azure.eventhub import EventData\n",
    "import time \n",
    "import random\n",
    "import json\n",
    "import asyncio\n",
    "\n",
    "from IPython.display import display, clear_output\n"
   ]
  },
  {
   "cell_type": "markdown",
   "metadata": {},
   "source": [
    "Event hubs conenction info:"
   ]
  },
  {
   "cell_type": "code",
   "execution_count": null,
   "metadata": {},
   "outputs": [],
   "source": [
    "#replace below item with your name spaces Access Key Connection String\n",
    "_CONNECTION_STRING = \"your name spaces Access Key Connection String\"\n",
    "#replace below item with your event hubs name\n",
    "_HUB_NAME = \"your event hubs name\"\n"
   ]
  },
  {
   "cell_type": "markdown",
   "metadata": {},
   "source": [
    "We will create dummy records randomly from below arrays lets initialize them:"
   ]
  },
  {
   "cell_type": "code",
   "execution_count": null,
   "metadata": {},
   "outputs": [],
   "source": [
    "#number of messages we will send\n",
    "message_count = 1000\n",
    "#time span between messages:\n",
    "sleep_time = 2 #seconds\n",
    "\n",
    "#arrays that we will build our messages from\n",
    "idxl = [1, 2, 3, 4, 5, 6, 7, 8, 9, 10]\n",
    "signalcode = [\"red\",\"green\",\"yellow\",\"blue\",\"pink\",\"black\"]"
   ]
  },
  {
   "cell_type": "markdown",
   "metadata": {},
   "source": [
    "Create and start the client producer object"
   ]
  },
  {
   "cell_type": "code",
   "execution_count": null,
   "metadata": {},
   "outputs": [],
   "source": [
    "producer = EventHubProducerClient.from_connection_string(conn_str=_CONNECTION_STRING, eventhub_name=_HUB_NAME)"
   ]
  },
  {
   "cell_type": "markdown",
   "metadata": {},
   "source": [
    "Generate  messages with random components and send."
   ]
  },
  {
   "cell_type": "code",
   "execution_count": null,
   "metadata": {},
   "outputs": [],
   "source": [
    "print(\"starting sending messages, start time: {0}\".format(time.ctime(int(time.time()))))\n",
    "for  i in range (0,message_count): \n",
    "    #build message:\n",
    "    random.shuffle(idxl)\n",
    "    random.shuffle(signalcode)\n",
    "    idx = random.sample(idxl,  1)[0]\n",
    "    sig = random.sample(signalcode,  1)[0]\n",
    "    payload = random.randint(1, 1000)    \n",
    "    messageval = {\"idx\": idx, \"payload\": payload, \"signal\":sig,  \"timestamp\": time.ctime(int(time.time()))} \n",
    "    \n",
    "    #create batch    \n",
    "    event_data_batch = await producer.create_batch()\n",
    "    #add batch\n",
    "    event_data_batch.add(EventData(json.dumps(messageval).encode('utf-8')))\n",
    "    #send batch\n",
    "    await producer.send_batch(event_data_batch)\n",
    "    \n",
    "    clear_output(wait=True)\n",
    "    display(\"message : \"+str(i)+\" | value=\"+str(messageval)) \n",
    "    time.sleep(sleep_time)\n",
    "print(\"finished sending messages, sent message count: {0} , end time: {1}\".format(message_count, time.ctime(int(time.time()))))"
   ]
  }
 ],
 "metadata": {
  "kernelspec": {
   "display_name": "Python 3",
   "language": "python",
   "name": "python3"
  },
  "language_info": {
   "codemirror_mode": {
    "name": "ipython",
    "version": 3
   },
   "file_extension": ".py",
   "mimetype": "text/x-python",
   "name": "python",
   "nbconvert_exporter": "python",
   "pygments_lexer": "ipython3",
   "version": "3.7.9"
  }
 },
 "nbformat": 4,
 "nbformat_minor": 2
}
